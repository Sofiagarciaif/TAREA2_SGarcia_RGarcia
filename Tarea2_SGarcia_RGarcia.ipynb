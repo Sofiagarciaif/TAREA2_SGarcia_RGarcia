{
 "cells": [
  {
   "cell_type": "markdown",
   "metadata": {},
   "source": [
    "<img style=\"float: left; margin: 30px 15px 15px 15px;\" src=\"https://pngimage.net/wp-content/uploads/2018/06/logo-iteso-png-5.png\" width=\"300\" height=\"500\" /> \n",
    "    \n",
    "    \n",
    "### <font color='navy'> Simulación de procesos financieros. \n",
    "\n",
    "**Nombres:** Renatta Garcia Sanchez, Sofia Garcia Mora\n",
    "\n",
    "**Fecha:** 10 de septiembre del 2020.\n",
    "\n",
    "**Expediente** : 703275 ,714303 \n",
    "**Profesor:** Oscar David Jaramillo Zuluaga.\n",
    "\n",
    "# Tarea 2: Clase 4"
   ]
  },
  {
   "cell_type": "markdown",
   "metadata": {},
   "source": [
    "## Enunciado de tarea "
   ]
  },
  {
   "cell_type": "markdown",
   "metadata": {},
   "source": [
    "### Ejercicio 1: \n",
    "1. Imagine una rutina contable utilizada en una librería. Funciona en una lista con sublistas, que se ven así:\n",
    "![imagen.png](attachment:imagen.png)\n",
    "Escriba un programa en Python, que devuelve una lista con tuplas de tamaño 2. Cada tupla consiste en el número de pedido y el costo total del pedido. El producto debe aumentarse en 10€ si el valor de la orden es inferior a 100,00 €. \n",
    "Escribe un programa Python usando unicamente las funciones **lambda y map**.\n",
    "\n",
    "`orders = [ [\"34587\", \"Learning Python, Mark Lutz\", 4, 40.95], \n",
    "           [\"98762\", \"Programming Python, Mark Lutz\", 5, 56.80], \n",
    "           [\"77226\", \"Head First Python, Paul Barry\", 3,32.95],\n",
    "           [\"88112\", \"Einführung in Python3, Bernd Klein\", 3, 24.99]]`"
   ]
  },
  {
   "cell_type": "code",
   "execution_count": null,
   "metadata": {},
   "outputs": [],
   "source": [
    "# Código de solución \n",
    ".\n",
    ".\n",
    ".\n",
    ".\n"
   ]
  },
  {
   "cell_type": "markdown",
   "metadata": {},
   "source": [
    "### Ejercicio 2:\n",
    "2. La misma librería, pero esta vez trabajamos en una lista diferente. Las sublistas de nuestras listas se ven así: \n",
    "[número de orden, (número de artículo, cantidad, precio por unidad), ... (número de artículo, cantidad, precio por unidad)] \n",
    "\n",
    "`orders = [[1, (\"5464\", 4, 9.99), (\"8274\",18,12.99), (\"9744\", 9, 44.95)], \n",
    "\t       [2, (\"5464\", 9, 9.99), (\"9744\", 9, 44.95)],\n",
    "\t       [3, (\"5464\", 9, 9.99), (\"88112\", 11, 24.99)],\n",
    "           [4, (\"8732\", 7, 11.99), (\"7733\",11,18.99), (\"88112\", 5, 39.95)] ]`\n",
    "\n",
    "Escriba un programa que devuelva una lista de dos tuplas que tengan la información de (número de pedido, cantidad total de pedido). Utilice la función `Reduce`. Recuerde el precio del pedido del producto debe aumentarse en 10€ si el valor de la orden es inferior a 100,00 €."
   ]
  },
  {
   "cell_type": "code",
   "execution_count": null,
   "metadata": {},
   "outputs": [],
   "source": []
  },
  {
   "cell_type": "markdown",
   "metadata": {},
   "source": [
    "### Ejercicio 3:\n",
    "3. Resolver los anteriores ejercicios usando pandas (DataFrame)"
   ]
  },
  {
   "cell_type": "code",
   "execution_count": null,
   "metadata": {},
   "outputs": [],
   "source": [
    "########### Solución 1\n",
    "orders = [ [\"34587\", \"Learning Python, Mark Lutz\", 4, 40.95], \n",
    "           [\"98762\", \"Programming Python, Mark Lutz\", 5, 56.80], \n",
    "           [\"77226\", \"Head First Python, Paul Barry\", 3,32.95],\n",
    "           [\"88112\", \"Einführung in Python3, Bernd Klein\", 3, 24.99]]\n",
    "\n",
    "# El resultado debe ser como muestro en el resultado de esta celda"
   ]
  },
  {
   "cell_type": "code",
   "execution_count": null,
   "metadata": {},
   "outputs": [],
   "source": [
    "########### Solución 2\n",
    "orders = [[1, (\"5464\", 4, 9.99), (\"8274\",18,12.99), (\"9744\", 9, 44.95)], \n",
    "          [2, (\"5464\", 9, 9.99), (\"9744\", 9, 44.95)],\n",
    "          [3, (\"5464\", 9, 9.99), (\"88112\", 11, 24.99)],\n",
    "          [4, (\"8732\", 7, 11.99), (\"7733\",11,18.99), (\"88112\", 5, 39.95)] ]\n",
    "\n",
    "\n"
   ]
  },
  {
   "cell_type": "code",
   "execution_count": null,
   "metadata": {},
   "outputs": [],
   "source": []
  },
  {
   "cell_type": "markdown",
   "metadata": {},
   "source": [
    "### Ejercicio 4:\n",
    "4. Use filter to eliminate all words that are shorter than 4 letters from a list of words\n",
    "`list='the notion of a lambda function goes all the way back to the origin of computer science'`"
   ]
  },
  {
   "cell_type": "code",
   "execution_count": null,
   "metadata": {},
   "outputs": [],
   "source": []
  },
  {
   "cell_type": "markdown",
   "metadata": {},
   "source": [
    "### Ejercicio 5:\n",
    "5. Use filter to determine the percentage of Fahrenheit temperatures in a list are within the range 32 to 80"
   ]
  },
  {
   "cell_type": "code",
   "execution_count": null,
   "metadata": {},
   "outputs": [],
   "source": [
    "########### Solución 4\n",
    "import numpy as np\n",
    "np.random.seed(55555)\n",
    "temperatures = np.random.uniform(25,110,30)\n",
    "print(temperatures)"
   ]
  },
  {
   "cell_type": "code",
   "execution_count": null,
   "metadata": {},
   "outputs": [],
   "source": []
  },
  {
   "cell_type": "markdown",
   "metadata": {},
   "source": [
    "### Ejercicio 6:\n",
    "6. Use reduce to find the lower left corner (minimum x and minimum y value) for a list of point locations\n",
    "> **Hint**: Explore the command `np.minimum.reduce` [link](https://docs.scipy.org/doc/numpy/reference/generated/numpy.ufunc.reduce.html)"
   ]
  },
  {
   "cell_type": "code",
   "execution_count": null,
   "metadata": {},
   "outputs": [],
   "source": [
    "########### Solución 5\n",
    "np.random.seed(55555)\n",
    "point_xy = np.random.randint(0,100,[30,2])\n",
    "print(point_xy)"
   ]
  },
  {
   "cell_type": "code",
   "execution_count": null,
   "metadata": {},
   "outputs": [],
   "source": []
  },
  {
   "cell_type": "markdown",
   "metadata": {},
   "source": [
    "### Respuesta planteada en el ejercicio usando (markdown)\n",
    " La respuesta es ........."
   ]
  }
 ],
 "metadata": {
  "kernelspec": {
   "display_name": "Python 3",
   "language": "python",
   "name": "python3"
  },
  "language_info": {
   "codemirror_mode": {
    "name": "ipython",
    "version": 3
   },
   "file_extension": ".py",
   "mimetype": "text/x-python",
   "name": "python",
   "nbconvert_exporter": "python",
   "pygments_lexer": "ipython3",
   "version": "3.7.3"
  }
 },
 "nbformat": 4,
 "nbformat_minor": 2
}
